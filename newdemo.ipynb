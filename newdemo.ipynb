{
 "metadata": {
  "language_info": {
   "codemirror_mode": {
    "name": "ipython",
    "version": 3
   },
   "file_extension": ".py",
   "mimetype": "text/x-python",
   "name": "python",
   "nbconvert_exporter": "python",
   "pygments_lexer": "ipython3",
   "version": "3.7.4-final"
  },
  "orig_nbformat": 2,
  "kernelspec": {
   "name": "python374jvsc74a57bd015ee6fd031143f4c5e9c2eecd17e0fe2dbe0e7fe51c170036372a3b5b0dc78b4",
   "display_name": "Python 3.7.4 64-bit (conda)"
  }
 },
 "nbformat": 4,
 "nbformat_minor": 2,
 "cells": [
  {
   "cell_type": "code",
   "execution_count": 1,
   "metadata": {},
   "outputs": [],
   "source": [
    "import sys, os\n",
    "import scDART"
   ]
  },
  {
   "cell_type": "code",
   "execution_count": 2,
   "metadata": {},
   "outputs": [],
   "source": [
    "sc = scDART.scDART()"
   ]
  },
  {
   "cell_type": "code",
   "execution_count": 3,
   "metadata": {},
   "outputs": [],
   "source": [
    "p = \"./data/Endo/\"\n",
    "dataset = (p + \"counts_rna.csv\", p + \"anno_rna.txt\", None, p + \"counts_atac.csv\", p + \"anno_atac.txt\", None, p+\"region2gene.csv\")"
   ]
  },
  {
   "cell_type": "code",
   "execution_count": 4,
   "metadata": {},
   "outputs": [
    {
     "output_type": "stream",
     "name": "stdout",
     "text": [
      "Loaded dataset\n",
      "cuda\n",
      "Number of anchor cells not specified, using exact mode for distance calculation instead.\n",
      "Diffusion distance calculated, time used (sec): 11.88963532447815\n",
      "Diffusion distance calculated, time used (sec): 7.169859409332275\n",
      "{'gene_act': gene_act(\n",
      "  (fc_layers): Sequential(\n",
      "    (Layer 0): Sequential(\n",
      "      (linear): Linear(in_features=11487, out_features=512, bias=False)\n",
      "      (batchnorm): BatchNorm1d(512, eps=0.001, momentum=0.01, affine=True, track_running_stats=True)\n",
      "      (act): LeakyReLU(negative_slope=0.2)\n",
      "      (dropout): None\n",
      "    )\n",
      "    (Layer 1): Sequential(\n",
      "      (linear): Linear(in_features=512, out_features=256, bias=False)\n",
      "      (batchnorm): BatchNorm1d(256, eps=0.001, momentum=0.01, affine=True, track_running_stats=True)\n",
      "      (act): LeakyReLU(negative_slope=0.2)\n",
      "      (dropout): None\n",
      "    )\n",
      "    (Layer 2): Sequential(\n",
      "      (linear): Linear(in_features=256, out_features=497, bias=False)\n",
      "      (batchnorm): BatchNorm1d(497, eps=0.001, momentum=0.01, affine=True, track_running_stats=True)\n",
      "      (act): LeakyReLU(negative_slope=0.2)\n",
      "      (dropout): None\n",
      "    )\n",
      "  )\n",
      "), 'encoder': Encoder(\n",
      "  (fc): FC(\n",
      "    (fc_layers): Sequential(\n",
      "      (Layer 0): Sequential(\n",
      "        (linear): Linear(in_features=497, out_features=128, bias=True)\n",
      "        (batchnorm): BatchNorm1d(128, eps=0.001, momentum=0.01, affine=True, track_running_stats=True)\n",
      "        (relu): LeakyReLU(negative_slope=0.2)\n",
      "        (dropout): None\n",
      "      )\n",
      "    )\n",
      "  )\n",
      "  (output): Linear(in_features=128, out_features=8, bias=True)\n",
      "), 'decoder': Decoder(\n",
      "  (fc): FC(\n",
      "    (fc_layers): Sequential(\n",
      "      (Layer 0): Sequential(\n",
      "        (linear): Linear(in_features=8, out_features=128, bias=True)\n",
      "        (batchnorm): BatchNorm1d(128, eps=0.001, momentum=0.01, affine=True, track_running_stats=True)\n",
      "        (relu): LeakyReLU(negative_slope=0.2)\n",
      "        (dropout): None\n",
      "      )\n",
      "      (Layer 1): Sequential(\n",
      "        (linear): Linear(in_features=128, out_features=497, bias=True)\n",
      "        (batchnorm): BatchNorm1d(497, eps=0.001, momentum=0.01, affine=True, track_running_stats=True)\n",
      "        (relu): LeakyReLU(negative_slope=0.2)\n",
      "        (dropout): None\n",
      "      )\n",
      "    )\n",
      "  )\n",
      "), 'gene_act_t': gene_act_t(\n",
      "  (fc_layers): Sequential(\n",
      "    (Layer 0): Sequential(\n",
      "      (linear): Linear(in_features=497, out_features=256, bias=False)\n",
      "      (batchnorm): BatchNorm1d(256, eps=0.001, momentum=0.01, affine=True, track_running_stats=True)\n",
      "      (act): LeakyReLU(negative_slope=0.2)\n",
      "      (dropout): None\n",
      "    )\n",
      "    (Layer 1): Sequential(\n",
      "      (linear): Linear(in_features=256, out_features=512, bias=False)\n",
      "      (batchnorm): BatchNorm1d(512, eps=0.001, momentum=0.01, affine=True, track_running_stats=True)\n",
      "      (act): LeakyReLU(negative_slope=0.2)\n",
      "      (dropout): None\n",
      "    )\n",
      "    (Layer 2): Sequential(\n",
      "      (linear): Linear(in_features=512, out_features=11487, bias=False)\n",
      "      (batchnorm): BatchNorm1d(11487, eps=0.001, momentum=0.01, affine=True, track_running_stats=True)\n",
      "      (act): LeakyReLU(negative_slope=0.2)\n",
      "      (dropout): None\n",
      "    )\n",
      "  )\n",
      ")}\n"
     ]
    },
    {
     "output_type": "error",
     "ename": "RuntimeError",
     "evalue": "The size of tensor a (11488) must match the size of tensor b (11487) at non-singleton dimension 1",
     "traceback": [
      "\u001b[1;31m---------------------------------------------------------------------------\u001b[0m",
      "\u001b[1;31mRuntimeError\u001b[0m                              Traceback (most recent call last)",
      "\u001b[1;32m<ipython-input-4-4bcea8649128>\u001b[0m in \u001b[0;36m<module>\u001b[1;34m\u001b[0m\n\u001b[1;32m----> 1\u001b[1;33m \u001b[0msc\u001b[0m\u001b[1;33m.\u001b[0m\u001b[0mfit_transform\u001b[0m\u001b[1;33m(\u001b[0m\u001b[0mdataset\u001b[0m\u001b[1;33m)\u001b[0m\u001b[1;33m\u001b[0m\u001b[1;33m\u001b[0m\u001b[0m\n\u001b[0m",
      "\u001b[1;32mc:\\Users\\jenso\\Study\\GT\\scdart\\scDART.py\u001b[0m in \u001b[0;36mfit_transform\u001b[1;34m(self, data)\u001b[0m\n\u001b[0;32m    194\u001b[0m                                                         \u001b[0mn_anchor\u001b[0m \u001b[1;33m=\u001b[0m \u001b[0mself\u001b[0m\u001b[1;33m.\u001b[0m\u001b[0mn_anchor\u001b[0m\u001b[1;33m,\u001b[0m \u001b[0mts\u001b[0m \u001b[1;33m=\u001b[0m \u001b[0mself\u001b[0m\u001b[1;33m.\u001b[0m\u001b[0mts\u001b[0m\u001b[1;33m,\u001b[0m \u001b[0mreg_d\u001b[0m \u001b[1;33m=\u001b[0m \u001b[0mself\u001b[0m\u001b[1;33m.\u001b[0m\u001b[0mreg_d\u001b[0m\u001b[1;33m,\u001b[0m\u001b[1;33m\u001b[0m\u001b[1;33m\u001b[0m\u001b[0m\n\u001b[0;32m    195\u001b[0m                                                         \u001b[0mreg_g\u001b[0m \u001b[1;33m=\u001b[0m \u001b[0mself\u001b[0m\u001b[1;33m.\u001b[0m\u001b[0mreg_g\u001b[0m\u001b[1;33m,\u001b[0m \u001b[0mreg_mmd\u001b[0m \u001b[1;33m=\u001b[0m \u001b[0mself\u001b[0m\u001b[1;33m.\u001b[0m\u001b[0mreg_mmd\u001b[0m\u001b[1;33m,\u001b[0m\u001b[1;33m\u001b[0m\u001b[1;33m\u001b[0m\u001b[0m\n\u001b[1;32m--> 196\u001b[1;33m                                                         \u001b[0ml_dist_type\u001b[0m\u001b[1;33m=\u001b[0m \u001b[0mself\u001b[0m\u001b[1;33m.\u001b[0m\u001b[0ml_dist_type\u001b[0m\u001b[1;33m,\u001b[0m \u001b[0mk\u001b[0m \u001b[1;33m=\u001b[0m \u001b[0mself\u001b[0m\u001b[1;33m.\u001b[0m\u001b[0mk\u001b[0m\u001b[1;33m,\u001b[0m \u001b[0mdevice\u001b[0m \u001b[1;33m=\u001b[0m \u001b[0mself\u001b[0m\u001b[1;33m.\u001b[0m\u001b[0mdevice\u001b[0m\u001b[1;33m\u001b[0m\u001b[1;33m\u001b[0m\u001b[0m\n\u001b[0m\u001b[0;32m    197\u001b[0m                                                         )\n\u001b[0;32m    198\u001b[0m         \u001b[0mprint\u001b[0m\u001b[1;33m(\u001b[0m\u001b[1;34m\"Fit and transform finished\"\u001b[0m\u001b[1;33m)\u001b[0m\u001b[1;33m\u001b[0m\u001b[1;33m\u001b[0m\u001b[0m\n",
      "\u001b[1;32mc:\\Users\\jenso\\Study\\GT\\scdart\\script\\train.py\u001b[0m in \u001b[0;36mscDART_train\u001b[1;34m(EMBED_CONFIG, reg_mtx, train_rna_loader, train_atac_loader, test_rna_loader, test_atac_loader, n_epochs, use_anchor, n_anchor, ts, reg_d, reg_g, reg_mmd, l_dist_type, k, device)\u001b[0m\n\u001b[0;32m     63\u001b[0m                             \u001b[0mdata_loader_rna\u001b[0m \u001b[1;33m=\u001b[0m \u001b[0mtrain_rna_loader\u001b[0m\u001b[1;33m,\u001b[0m \u001b[0mdata_loader_atac\u001b[0m \u001b[1;33m=\u001b[0m \u001b[0mtrain_atac_loader\u001b[0m\u001b[1;33m,\u001b[0m \u001b[0mn_epochs\u001b[0m \u001b[1;33m=\u001b[0m \u001b[0mn_epochs\u001b[0m\u001b[1;33m,\u001b[0m\u001b[1;33m\u001b[0m\u001b[1;33m\u001b[0m\u001b[0m\n\u001b[0;32m     64\u001b[0m                             \u001b[0mreg_mtx\u001b[0m \u001b[1;33m=\u001b[0m \u001b[0mreg_mtx\u001b[0m\u001b[1;33m,\u001b[0m \u001b[0mreg_d\u001b[0m \u001b[1;33m=\u001b[0m \u001b[0mreg_d\u001b[0m\u001b[1;33m,\u001b[0m \u001b[0mreg_g\u001b[0m \u001b[1;33m=\u001b[0m \u001b[0mreg_g\u001b[0m\u001b[1;33m,\u001b[0m \u001b[0mreg_mmd\u001b[0m \u001b[1;33m=\u001b[0m \u001b[0mreg_mmd\u001b[0m\u001b[1;33m,\u001b[0m \u001b[0muse_anchor\u001b[0m \u001b[1;33m=\u001b[0m \u001b[0muse_anchor\u001b[0m\u001b[1;33m,\u001b[0m \u001b[0mnorm\u001b[0m \u001b[1;33m=\u001b[0m \u001b[1;34m\"l1\"\u001b[0m\u001b[1;33m,\u001b[0m\u001b[1;33m\u001b[0m\u001b[1;33m\u001b[0m\u001b[0m\n\u001b[1;32m---> 65\u001b[1;33m                             mode = l_dist_type)\n\u001b[0m\u001b[0;32m     66\u001b[0m \u001b[1;33m\u001b[0m\u001b[0m\n\u001b[0;32m     67\u001b[0m         \u001b[1;32mwith\u001b[0m \u001b[0mtorch\u001b[0m\u001b[1;33m.\u001b[0m\u001b[0mno_grad\u001b[0m\u001b[1;33m(\u001b[0m\u001b[1;33m)\u001b[0m\u001b[1;33m:\u001b[0m\u001b[1;33m\u001b[0m\u001b[1;33m\u001b[0m\u001b[0m\n",
      "\u001b[1;32mc:\\Users\\jenso\\Study\\GT\\scdart\\script\\train.py\u001b[0m in \u001b[0;36mmatch_latent\u001b[1;34m(model, opts, dist_atac, dist_rna, data_loader_rna, data_loader_atac, n_epochs, reg_mtx, reg_d, reg_g, reg_mmd, use_anchor, norm, mode)\u001b[0m\n\u001b[0;32m    156\u001b[0m             \u001b[1;32melse\u001b[0m\u001b[1;33m:\u001b[0m\u001b[1;33m\u001b[0m\u001b[1;33m\u001b[0m\u001b[0m\n\u001b[0;32m    157\u001b[0m                 losses = _train_mmd(model, opts, b_x_rna, b_x_atac, reg_mtx, b_dist_atac, b_dist_rna, reg_d = reg_d, \n\u001b[1;32m--> 158\u001b[1;33m                         reg_g = reg_g, reg_mmd = reg_mmd, norm = \"l1\", mode = mode)\n\u001b[0m\u001b[0;32m    159\u001b[0m \u001b[1;33m\u001b[0m\u001b[0m\n\u001b[0;32m    160\u001b[0m \u001b[1;33m\u001b[0m\u001b[0m\n",
      "\u001b[1;32mc:\\Users\\jenso\\Study\\GT\\scdart\\script\\train.py\u001b[0m in \u001b[0;36m_train_mmd\u001b[1;34m(model, opts, b_x_rna, b_x_atac, reg_mtx, dist_atac, dist_rna, anchor_idx_rna, anchor_idx_atac, reg_anchor, reg_d, reg_g, reg_mmd, norm, mode)\u001b[0m\n\u001b[0;32m     95\u001b[0m     \u001b[0mloss_d_rna\u001b[0m \u001b[1;33m=\u001b[0m \u001b[0mreg_d\u001b[0m \u001b[1;33m*\u001b[0m \u001b[0mloss\u001b[0m\u001b[1;33m.\u001b[0m\u001b[0mdist_loss\u001b[0m\u001b[1;33m(\u001b[0m\u001b[0mz\u001b[0m \u001b[1;33m=\u001b[0m \u001b[0mb_z_rna\u001b[0m\u001b[1;33m,\u001b[0m \u001b[0mdiff_sim\u001b[0m \u001b[1;33m=\u001b[0m \u001b[0mdist_rna\u001b[0m\u001b[1;33m,\u001b[0m \u001b[0mmode\u001b[0m \u001b[1;33m=\u001b[0m \u001b[0mmode\u001b[0m\u001b[1;33m)\u001b[0m\u001b[1;33m\u001b[0m\u001b[1;33m\u001b[0m\u001b[0m\n\u001b[0;32m     96\u001b[0m \u001b[1;33m\u001b[0m\u001b[0m\n\u001b[1;32m---> 97\u001b[1;33m     \u001b[0mloss_genact\u001b[0m \u001b[1;33m=\u001b[0m \u001b[0mreg_g\u001b[0m \u001b[1;33m*\u001b[0m \u001b[0mloss\u001b[0m\u001b[1;33m.\u001b[0m\u001b[0mpinfo_loss\u001b[0m\u001b[1;33m(\u001b[0m\u001b[0mmodel\u001b[0m\u001b[1;33m[\u001b[0m\u001b[1;34m\"gene_act\"\u001b[0m\u001b[1;33m]\u001b[0m\u001b[1;33m,\u001b[0m \u001b[1;33m~\u001b[0m\u001b[0mreg_mtx\u001b[0m\u001b[1;33m,\u001b[0m \u001b[0mnorm\u001b[0m \u001b[1;33m=\u001b[0m \u001b[0mnorm\u001b[0m\u001b[1;33m)\u001b[0m\u001b[1;33m\u001b[0m\u001b[1;33m\u001b[0m\u001b[0m\n\u001b[0m\u001b[0;32m     98\u001b[0m     \u001b[0mloss_mmd\u001b[0m \u001b[1;33m=\u001b[0m \u001b[0mreg_mmd\u001b[0m \u001b[1;33m*\u001b[0m \u001b[0mloss\u001b[0m\u001b[1;33m.\u001b[0m\u001b[0mmaximum_mean_discrepancy\u001b[0m\u001b[1;33m(\u001b[0m\u001b[0mb_z_atac\u001b[0m\u001b[1;33m,\u001b[0m \u001b[0mb_z_rna\u001b[0m\u001b[1;33m)\u001b[0m\u001b[1;33m\u001b[0m\u001b[1;33m\u001b[0m\u001b[0m\n\u001b[0;32m     99\u001b[0m \u001b[1;33m\u001b[0m\u001b[0m\n",
      "\u001b[1;32mc:\\Users\\jenso\\Study\\GT\\scdart\\script\\loss.py\u001b[0m in \u001b[0;36mpinfo_loss\u001b[1;34m(model, mask, norm)\u001b[0m\n\u001b[0;32m     67\u001b[0m     \u001b[1;32melse\u001b[0m\u001b[1;33m:\u001b[0m\u001b[1;33m\u001b[0m\u001b[1;33m\u001b[0m\u001b[0m\n\u001b[0;32m     68\u001b[0m         \u001b[1;31m# l1 norm\u001b[0m\u001b[1;33m\u001b[0m\u001b[1;33m\u001b[0m\u001b[1;33m\u001b[0m\u001b[0m\n\u001b[1;32m---> 69\u001b[1;33m         \u001b[0mloss\u001b[0m \u001b[1;33m=\u001b[0m \u001b[0mtorch\u001b[0m\u001b[1;33m.\u001b[0m\u001b[0msum\u001b[0m\u001b[1;33m(\u001b[0m\u001b[0mtorch\u001b[0m\u001b[1;33m.\u001b[0m\u001b[0mabs\u001b[0m\u001b[1;33m(\u001b[0m\u001b[0mmask\u001b[0m\u001b[1;33m.\u001b[0m\u001b[0mT\u001b[0m \u001b[1;33m*\u001b[0m \u001b[0mW\u001b[0m\u001b[1;33m)\u001b[0m\u001b[1;33m)\u001b[0m\u001b[1;33m\u001b[0m\u001b[1;33m\u001b[0m\u001b[0m\n\u001b[0m\u001b[0;32m     70\u001b[0m     \u001b[1;32mreturn\u001b[0m \u001b[0mloss\u001b[0m\u001b[1;33m\u001b[0m\u001b[1;33m\u001b[0m\u001b[0m\n\u001b[0;32m     71\u001b[0m \u001b[1;33m\u001b[0m\u001b[0m\n",
      "\u001b[1;31mRuntimeError\u001b[0m: The size of tensor a (11488) must match the size of tensor b (11487) at non-singleton dimension 1"
     ]
    }
   ],
   "source": [
    "sc.fit_transform(dataset)"
   ]
  },
  {
   "cell_type": "code",
   "execution_count": null,
   "metadata": {},
   "outputs": [],
   "source": []
  }
 ]
}